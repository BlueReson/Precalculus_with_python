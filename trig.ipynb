{
 "cells": [
  {
   "cell_type": "code",
   "execution_count": null,
   "metadata": {},
   "outputs": [],
   "source": [
    "from IPython import display\n",
    "import math\n",
    "import time\n",
    "import matplotlib.pyplot as plt\n",
    "\n",
    "\n",
    "fig, ax = plt.subplots()\n",
    "plt.axis([-2,12,01,8])\n",
    "ax.text(0,1,\"A\")\n",
    "plt.plot([1],[1],\"ro\")\n",
    "plt.plot([1,7], [1,1], 'b')\n",
    "plt.plot([7,7], [1,4], 'b')\n",
    "plt.plot([1,7], [1,4], 'b')\n",
    "display.display(plt.gcf())\n",
    "# time.sleep(1)\n",
    "display.clear_output(wait=True)"
   ]
  }
 ],
 "metadata": {
  "kernelspec": {
   "display_name": "base",
   "language": "python",
   "name": "python3"
  },
  "language_info": {
   "name": "python",
   "version": "3.11.7"
  }
 },
 "nbformat": 4,
 "nbformat_minor": 2
}
